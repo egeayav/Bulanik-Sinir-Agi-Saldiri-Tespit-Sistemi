{
 "cells": [
  {
   "cell_type": "code",
   "execution_count": 122,
   "metadata": {},
   "outputs": [],
   "source": [
    "import pandas as pd\n",
    "import tensorflow as tf\n",
    "import sklearn \n",
    "#import scikitplot \n",
    "from sklearn.decomposition import PCA \n",
    "from sklearn.preprocessing import StandardScaler,MinMaxScaler\n",
    "from sklearn.preprocessing import LabelBinarizer\n",
    "import matplotlib.pyplot as plt\n",
    "from keras.utils.vis_utils import plot_model\n",
    "from keras.utils import to_categorical\n",
    "import os\n",
    "from pickle import dump,load\n",
    "from tqdm.notebook import tqdm as tqdm\n",
    "import skfuzzy\n",
    "from tensorflow.keras.layers import Layer,Input,Dense\n",
    "from tensorflow.keras.models import Model\n",
    "import keras\n",
    "import sys\n",
    "import numpy\n",
    "from keras.utils.vis_utils import plot_model\n",
    "import matplotlib.pyplot as plt\n",
    "import pandas as pd\n",
    "import numpy as np\n",
    "from sklearn.metrics.pairwise import euclidean_distances\n",
    "from sklearn.model_selection import train_test_split"
   ]
  },
  {
   "cell_type": "code",
   "execution_count": 124,
   "metadata": {},
   "outputs": [],
   "source": [
    "class FuzzyLayer(Layer):\n",
    "    def __init__(self, output_dim, **kwargs):\n",
    "        super(FuzzyLayer, self).__init__(**kwargs)\n",
    "        self.output_dim = output_dim\n",
    "    def build(self, input_shape):\n",
    "        self.kernel = self.add_weight(name='kernel',\n",
    "            shape=(input_shape[1], self.output_dim),\n",
    "            initializer='uniform',\n",
    "            trainable=True)\n",
    "    def call(self, x):\n",
    "        return tf.math.sigmoid(tf.matmul(x, self.kernel))"
   ]
  },
  {
   "cell_type": "code",
   "execution_count": 3,
   "metadata": {},
   "outputs": [],
   "source": [
    "import warnings\n",
    "warnings.filterwarnings('ignore')\n",
    "\n"
   ]
  },
  {
   "cell_type": "code",
   "execution_count": 4,
   "metadata": {},
   "outputs": [],
   "source": [
    "pd.set_option('display.max_columns', None)\n",
    "pd.set_option('display.max_rows', None)\n"
   ]
  },
  {
   "cell_type": "code",
   "execution_count": 5,
   "metadata": {},
   "outputs": [],
   "source": [
    "cols = [' Bwd Packet Length Std',' PSH Flag Count',' min_seg_size_forward',' Min Packet Length',' ACK Flag Count',' Bwd Packet Length Min',' Fwd IAT Std','Init_Win_bytes_forward',' Flow IAT Max',' Bwd Packets/s',' URG Flag Count','Bwd IAT Total',' Label']\n",
    "df1=pd.read_csv(\"dataset/Friday-WorkingHours-Afternoon-DDos.pcap_ISCX.csv\", usecols = cols)#,nrows = 50000\n",
    "df2=pd.read_csv(\"dataset/Friday-WorkingHours-Afternoon-PortScan.pcap_ISCX.csv\", usecols = cols)\n",
    "df3=pd.read_csv(\"dataset/Friday-WorkingHours-Morning.pcap_ISCX.csv\", usecols = cols)\n",
    "df4=pd.read_csv(\"dataset/Thursday-WorkingHours-Afternoon-Infilteration.pcap_ISCX.csv\", usecols = cols)\n",
    "df5=pd.read_csv(\"dataset/Thursday-WorkingHours-Morning-WebAttacks.pcap_ISCX.csv\", usecols = cols)\n"
   ]
  },
  {
   "cell_type": "code",
   "execution_count": 6,
   "metadata": {},
   "outputs": [],
   "source": [
    "df = pd.concat([df1,df2])\n",
    "del df1,df2\n",
    "df = pd.concat([df,df3])\n",
    "del df3\n",
    "df = pd.concat([df,df4])\n",
    "del df4\n",
    "df = pd.concat([df,df5])\n",
    "del df5\n",
    "\n",
    "data = df.copy()"
   ]
  },
  {
   "cell_type": "code",
   "execution_count": 7,
   "metadata": {},
   "outputs": [
    {
     "data": {
      "text/html": [
       "<div>\n",
       "<style scoped>\n",
       "    .dataframe tbody tr th:only-of-type {\n",
       "        vertical-align: middle;\n",
       "    }\n",
       "\n",
       "    .dataframe tbody tr th {\n",
       "        vertical-align: top;\n",
       "    }\n",
       "\n",
       "    .dataframe thead th {\n",
       "        text-align: right;\n",
       "    }\n",
       "</style>\n",
       "<table border=\"1\" class=\"dataframe\">\n",
       "  <thead>\n",
       "    <tr style=\"text-align: right;\">\n",
       "      <th></th>\n",
       "      <th>bwd_packet_length_min</th>\n",
       "      <th>bwd_packet_length_std</th>\n",
       "      <th>flow_iat_max</th>\n",
       "      <th>fwd_iat_std</th>\n",
       "      <th>bwd_iat_total</th>\n",
       "      <th>bwd_packets/s</th>\n",
       "      <th>min_packet_length</th>\n",
       "      <th>psh_flag_count</th>\n",
       "      <th>ack_flag_count</th>\n",
       "      <th>urg_flag_count</th>\n",
       "      <th>init_win_bytes_forward</th>\n",
       "      <th>min_seg_size_forward</th>\n",
       "      <th>label</th>\n",
       "    </tr>\n",
       "  </thead>\n",
       "  <tbody>\n",
       "    <tr>\n",
       "      <th>0</th>\n",
       "      <td>0</td>\n",
       "      <td>0.0</td>\n",
       "      <td>3</td>\n",
       "      <td>0.0</td>\n",
       "      <td>0</td>\n",
       "      <td>0.000000</td>\n",
       "      <td>6</td>\n",
       "      <td>0</td>\n",
       "      <td>1</td>\n",
       "      <td>0</td>\n",
       "      <td>33</td>\n",
       "      <td>20</td>\n",
       "      <td>BENIGN</td>\n",
       "    </tr>\n",
       "    <tr>\n",
       "      <th>1</th>\n",
       "      <td>6</td>\n",
       "      <td>0.0</td>\n",
       "      <td>109</td>\n",
       "      <td>0.0</td>\n",
       "      <td>0</td>\n",
       "      <td>9174.311927</td>\n",
       "      <td>6</td>\n",
       "      <td>0</td>\n",
       "      <td>1</td>\n",
       "      <td>1</td>\n",
       "      <td>29</td>\n",
       "      <td>20</td>\n",
       "      <td>BENIGN</td>\n",
       "    </tr>\n",
       "    <tr>\n",
       "      <th>2</th>\n",
       "      <td>6</td>\n",
       "      <td>0.0</td>\n",
       "      <td>52</td>\n",
       "      <td>0.0</td>\n",
       "      <td>0</td>\n",
       "      <td>19230.769230</td>\n",
       "      <td>6</td>\n",
       "      <td>0</td>\n",
       "      <td>1</td>\n",
       "      <td>1</td>\n",
       "      <td>29</td>\n",
       "      <td>20</td>\n",
       "      <td>BENIGN</td>\n",
       "    </tr>\n",
       "    <tr>\n",
       "      <th>3</th>\n",
       "      <td>6</td>\n",
       "      <td>0.0</td>\n",
       "      <td>34</td>\n",
       "      <td>0.0</td>\n",
       "      <td>0</td>\n",
       "      <td>29411.764710</td>\n",
       "      <td>6</td>\n",
       "      <td>0</td>\n",
       "      <td>1</td>\n",
       "      <td>1</td>\n",
       "      <td>31</td>\n",
       "      <td>20</td>\n",
       "      <td>BENIGN</td>\n",
       "    </tr>\n",
       "    <tr>\n",
       "      <th>4</th>\n",
       "      <td>0</td>\n",
       "      <td>0.0</td>\n",
       "      <td>3</td>\n",
       "      <td>0.0</td>\n",
       "      <td>0</td>\n",
       "      <td>0.000000</td>\n",
       "      <td>6</td>\n",
       "      <td>0</td>\n",
       "      <td>1</td>\n",
       "      <td>0</td>\n",
       "      <td>32</td>\n",
       "      <td>20</td>\n",
       "      <td>BENIGN</td>\n",
       "    </tr>\n",
       "  </tbody>\n",
       "</table>\n",
       "</div>"
      ],
      "text/plain": [
       "   bwd_packet_length_min  bwd_packet_length_std  flow_iat_max  fwd_iat_std  \\\n",
       "0                      0                    0.0             3          0.0   \n",
       "1                      6                    0.0           109          0.0   \n",
       "2                      6                    0.0            52          0.0   \n",
       "3                      6                    0.0            34          0.0   \n",
       "4                      0                    0.0             3          0.0   \n",
       "\n",
       "   bwd_iat_total  bwd_packets/s  min_packet_length  psh_flag_count  \\\n",
       "0              0       0.000000                  6               0   \n",
       "1              0    9174.311927                  6               0   \n",
       "2              0   19230.769230                  6               0   \n",
       "3              0   29411.764710                  6               0   \n",
       "4              0       0.000000                  6               0   \n",
       "\n",
       "   ack_flag_count  urg_flag_count  init_win_bytes_forward  \\\n",
       "0               1               0                      33   \n",
       "1               1               1                      29   \n",
       "2               1               1                      29   \n",
       "3               1               1                      31   \n",
       "4               1               0                      32   \n",
       "\n",
       "   min_seg_size_forward   label  \n",
       "0                    20  BENIGN  \n",
       "1                    20  BENIGN  \n",
       "2                    20  BENIGN  \n",
       "3                    20  BENIGN  \n",
       "4                    20  BENIGN  "
      ]
     },
     "execution_count": 7,
     "metadata": {},
     "output_type": "execute_result"
    }
   ],
   "source": [
    "df.columns = df.columns.str.strip().str.lower().str.replace(' ', '_').str.replace('(', '').str.replace(')', '')\n",
    "df.head()\n"
   ]
  },
  {
   "cell_type": "code",
   "execution_count": 8,
   "metadata": {},
   "outputs": [],
   "source": [
    "df_cleaned = df.copy()\n",
    "df_cleaned.replace([np.inf], 999999, inplace=True)\n",
    "df_cleaned.replace([-np.inf], -999999, inplace=True)\n",
    "df_cleaned.replace([np.nan], 0, inplace=True)\n",
    "\n",
    "\n"
   ]
  },
  {
   "cell_type": "code",
   "execution_count": 9,
   "metadata": {},
   "outputs": [
    {
     "data": {
      "text/html": [
       "<div>\n",
       "<style scoped>\n",
       "    .dataframe tbody tr th:only-of-type {\n",
       "        vertical-align: middle;\n",
       "    }\n",
       "\n",
       "    .dataframe tbody tr th {\n",
       "        vertical-align: top;\n",
       "    }\n",
       "\n",
       "    .dataframe thead th {\n",
       "        text-align: right;\n",
       "    }\n",
       "</style>\n",
       "<table border=\"1\" class=\"dataframe\">\n",
       "  <thead>\n",
       "    <tr style=\"text-align: right;\">\n",
       "      <th></th>\n",
       "      <th>bwd_packet_length_min</th>\n",
       "      <th>bwd_packet_length_std</th>\n",
       "      <th>flow_iat_max</th>\n",
       "      <th>fwd_iat_std</th>\n",
       "      <th>bwd_iat_total</th>\n",
       "      <th>bwd_packets/s</th>\n",
       "      <th>min_packet_length</th>\n",
       "      <th>psh_flag_count</th>\n",
       "      <th>ack_flag_count</th>\n",
       "      <th>urg_flag_count</th>\n",
       "      <th>init_win_bytes_forward</th>\n",
       "      <th>min_seg_size_forward</th>\n",
       "      <th>label</th>\n",
       "    </tr>\n",
       "  </thead>\n",
       "  <tbody>\n",
       "    <tr>\n",
       "      <th>0</th>\n",
       "      <td>0</td>\n",
       "      <td>0.0</td>\n",
       "      <td>3</td>\n",
       "      <td>0.0</td>\n",
       "      <td>0</td>\n",
       "      <td>0.000000</td>\n",
       "      <td>6</td>\n",
       "      <td>0</td>\n",
       "      <td>1</td>\n",
       "      <td>0</td>\n",
       "      <td>33</td>\n",
       "      <td>20</td>\n",
       "      <td>BENIGN</td>\n",
       "    </tr>\n",
       "    <tr>\n",
       "      <th>1</th>\n",
       "      <td>6</td>\n",
       "      <td>0.0</td>\n",
       "      <td>109</td>\n",
       "      <td>0.0</td>\n",
       "      <td>0</td>\n",
       "      <td>9174.311927</td>\n",
       "      <td>6</td>\n",
       "      <td>0</td>\n",
       "      <td>1</td>\n",
       "      <td>1</td>\n",
       "      <td>29</td>\n",
       "      <td>20</td>\n",
       "      <td>BENIGN</td>\n",
       "    </tr>\n",
       "    <tr>\n",
       "      <th>2</th>\n",
       "      <td>6</td>\n",
       "      <td>0.0</td>\n",
       "      <td>52</td>\n",
       "      <td>0.0</td>\n",
       "      <td>0</td>\n",
       "      <td>19230.769230</td>\n",
       "      <td>6</td>\n",
       "      <td>0</td>\n",
       "      <td>1</td>\n",
       "      <td>1</td>\n",
       "      <td>29</td>\n",
       "      <td>20</td>\n",
       "      <td>BENIGN</td>\n",
       "    </tr>\n",
       "    <tr>\n",
       "      <th>3</th>\n",
       "      <td>6</td>\n",
       "      <td>0.0</td>\n",
       "      <td>34</td>\n",
       "      <td>0.0</td>\n",
       "      <td>0</td>\n",
       "      <td>29411.764710</td>\n",
       "      <td>6</td>\n",
       "      <td>0</td>\n",
       "      <td>1</td>\n",
       "      <td>1</td>\n",
       "      <td>31</td>\n",
       "      <td>20</td>\n",
       "      <td>BENIGN</td>\n",
       "    </tr>\n",
       "    <tr>\n",
       "      <th>4</th>\n",
       "      <td>0</td>\n",
       "      <td>0.0</td>\n",
       "      <td>3</td>\n",
       "      <td>0.0</td>\n",
       "      <td>0</td>\n",
       "      <td>0.000000</td>\n",
       "      <td>6</td>\n",
       "      <td>0</td>\n",
       "      <td>1</td>\n",
       "      <td>0</td>\n",
       "      <td>32</td>\n",
       "      <td>20</td>\n",
       "      <td>BENIGN</td>\n",
       "    </tr>\n",
       "  </tbody>\n",
       "</table>\n",
       "</div>"
      ],
      "text/plain": [
       "   bwd_packet_length_min  bwd_packet_length_std  flow_iat_max  fwd_iat_std  \\\n",
       "0                      0                    0.0             3          0.0   \n",
       "1                      6                    0.0           109          0.0   \n",
       "2                      6                    0.0            52          0.0   \n",
       "3                      6                    0.0            34          0.0   \n",
       "4                      0                    0.0             3          0.0   \n",
       "\n",
       "   bwd_iat_total  bwd_packets/s  min_packet_length  psh_flag_count  \\\n",
       "0              0       0.000000                  6               0   \n",
       "1              0    9174.311927                  6               0   \n",
       "2              0   19230.769230                  6               0   \n",
       "3              0   29411.764710                  6               0   \n",
       "4              0       0.000000                  6               0   \n",
       "\n",
       "   ack_flag_count  urg_flag_count  init_win_bytes_forward  \\\n",
       "0               1               0                      33   \n",
       "1               1               1                      29   \n",
       "2               1               1                      29   \n",
       "3               1               1                      31   \n",
       "4               1               0                      32   \n",
       "\n",
       "   min_seg_size_forward   label  \n",
       "0                    20  BENIGN  \n",
       "1                    20  BENIGN  \n",
       "2                    20  BENIGN  \n",
       "3                    20  BENIGN  \n",
       "4                    20  BENIGN  "
      ]
     },
     "execution_count": 9,
     "metadata": {},
     "output_type": "execute_result"
    }
   ],
   "source": [
    "df_cleaned.head()"
   ]
  },
  {
   "cell_type": "code",
   "execution_count": 10,
   "metadata": {},
   "outputs": [],
   "source": [
    "df_cleaned = df_cleaned.reset_index()\n",
    "df_cleaned.drop('index', axis=1, inplace=True)\n"
   ]
  },
  {
   "cell_type": "code",
   "execution_count": 11,
   "metadata": {},
   "outputs": [
    {
     "data": {
      "text/plain": [
       "array(['BENIGN', 'DDoS', 'PortScan', 'Bot', 'Infiltration',\n",
       "       'Web Attack � Brute Force', 'Web Attack � XSS',\n",
       "       'Web Attack � Sql Injection'], dtype=object)"
      ]
     },
     "execution_count": 11,
     "metadata": {},
     "output_type": "execute_result"
    }
   ],
   "source": [
    "df_labels = df_cleaned['label']\n",
    "df_labels.unique()"
   ]
  },
  {
   "cell_type": "code",
   "execution_count": 12,
   "metadata": {},
   "outputs": [],
   "source": [
    "df_no_labels = df_cleaned.drop('label', axis=1, inplace=False)\n",
    "df_features = df_no_labels.columns.tolist()\n"
   ]
  },
  {
   "cell_type": "code",
   "execution_count": 13,
   "metadata": {},
   "outputs": [],
   "source": [
    "scaler = MinMaxScaler()"
   ]
  },
  {
   "cell_type": "code",
   "execution_count": 14,
   "metadata": {},
   "outputs": [],
   "source": [
    "df_scaled = MinMaxScaler().fit_transform(df_no_labels)\n",
    "df_scaled = pd.DataFrame(data = df_scaled, columns = df_features)\n"
   ]
  },
  {
   "cell_type": "code",
   "execution_count": 15,
   "metadata": {},
   "outputs": [],
   "source": [
    "dump(scaler, open('scaler.pkl','wb'))"
   ]
  },
  {
   "cell_type": "code",
   "execution_count": 21,
   "metadata": {},
   "outputs": [
    {
     "data": {
      "image/png": "[encoded data removed]",
      "text/plain": [
       "<Figure size 640x480 with 1 Axes>"
      ]
     },
     "metadata": {},
     "output_type": "display_data"
    }
   ],
   "source": [
    "pca_test = PCA().fit(df_scaled)\n",
    "plt.plot(np.cumsum(pca_test.explained_variance_ratio_))\n",
    "plt.xlabel('Number of Principal Components')\n",
    "plt.ylabel('Cumulative Explained Variance')\n",
    "plt.show()"
   ]
  },
  {
   "cell_type": "code",
   "execution_count": 22,
   "metadata": {},
   "outputs": [
    {
     "data": {
      "text/plain": [
       "array([[-9.46520183e+06, -1.73997806e+06, -6.19956101e+04, ...,\n",
       "        -5.61635498e+01, -1.93961924e+00,  4.17752206e+00],\n",
       "       [-9.46516112e+06, -1.73988700e+06, -6.20287915e+04, ...,\n",
       "        -4.91017965e+01, -3.27540029e+00,  4.31239176e+00],\n",
       "       [-9.46518479e+06, -1.73993722e+06, -6.20120548e+04, ...,\n",
       "        -4.77243233e+01, -3.10608534e+00,  4.38553735e+00],\n",
       "       ...,\n",
       "       [-8.67531179e+06, -1.04532875e+06, -1.99837746e+05, ...,\n",
       "        -1.28081944e+01, -1.38435130e+00, -1.62757408e+00],\n",
       "       [-9.46512194e+06, -1.73980176e+06, -6.20585363e+04, ...,\n",
       "        -5.64491211e+01, -7.47258269e+00, -7.81930917e+00],\n",
       "       [-9.46518752e+06, -1.73994199e+06, -6.20126742e+04, ...,\n",
       "        -5.16976769e+01, -6.88971045e+00, -7.57444184e+00]])"
      ]
     },
     "execution_count": 22,
     "metadata": {},
     "output_type": "execute_result"
    }
   ],
   "source": [
    "pca = PCA(n_components=9)\n",
    "principal_components = pca.fit(df_no_labels).transform(df_no_labels)\n",
    "principal_components"
   ]
  },
  {
   "cell_type": "code",
   "execution_count": 23,
   "metadata": {},
   "outputs": [],
   "source": [
    "def get_PCA_feature_names(num_of_pca_components):\n",
    "    feature_names = []\n",
    "    for i in range(num_of_pca_components):    \n",
    "        feature_names.append(f\"Principal component {i+1}\")\n",
    "    return feature_names"
   ]
  },
  {
   "cell_type": "code",
   "execution_count": 24,
   "metadata": {},
   "outputs": [
    {
     "data": {
      "text/plain": [
       "['Principal component 1',\n",
       " 'Principal component 2',\n",
       " 'Principal component 3',\n",
       " 'Principal component 4',\n",
       " 'Principal component 5',\n",
       " 'Principal component 6',\n",
       " 'Principal component 7',\n",
       " 'Principal component 8',\n",
       " 'Principal component 9']"
      ]
     },
     "execution_count": 24,
     "metadata": {},
     "output_type": "execute_result"
    }
   ],
   "source": [
    "principal_component_headings = get_PCA_feature_names(9)\n",
    "principal_component_headings"
   ]
  },
  {
   "cell_type": "code",
   "execution_count": 25,
   "metadata": {},
   "outputs": [
    {
     "data": {
      "text/html": [
       "<div>\n",
       "<style scoped>\n",
       "    .dataframe tbody tr th:only-of-type {\n",
       "        vertical-align: middle;\n",
       "    }\n",
       "\n",
       "    .dataframe tbody tr th {\n",
       "        vertical-align: top;\n",
       "    }\n",
       "\n",
       "    .dataframe thead th {\n",
       "        text-align: right;\n",
       "    }\n",
       "</style>\n",
       "<table border=\"1\" class=\"dataframe\">\n",
       "  <thead>\n",
       "    <tr style=\"text-align: right;\">\n",
       "      <th></th>\n",
       "      <th>bwd_packet_length_min</th>\n",
       "      <th>bwd_packet_length_std</th>\n",
       "      <th>flow_iat_max</th>\n",
       "      <th>fwd_iat_std</th>\n",
       "      <th>bwd_iat_total</th>\n",
       "      <th>bwd_packets/s</th>\n",
       "      <th>min_packet_length</th>\n",
       "      <th>psh_flag_count</th>\n",
       "      <th>ack_flag_count</th>\n",
       "      <th>urg_flag_count</th>\n",
       "      <th>init_win_bytes_forward</th>\n",
       "      <th>min_seg_size_forward</th>\n",
       "    </tr>\n",
       "  </thead>\n",
       "  <tbody>\n",
       "    <tr>\n",
       "      <th>0</th>\n",
       "      <td>0.000000</td>\n",
       "      <td>0.0</td>\n",
       "      <td>1.333333e-07</td>\n",
       "      <td>0.0</td>\n",
       "      <td>0.0</td>\n",
       "      <td>0.000000</td>\n",
       "      <td>0.004415</td>\n",
       "      <td>0.0</td>\n",
       "      <td>1.0</td>\n",
       "      <td>0.0</td>\n",
       "      <td>0.000519</td>\n",
       "      <td>0.333333</td>\n",
       "    </tr>\n",
       "    <tr>\n",
       "      <th>1</th>\n",
       "      <td>0.003661</td>\n",
       "      <td>0.0</td>\n",
       "      <td>1.016667e-06</td>\n",
       "      <td>0.0</td>\n",
       "      <td>0.0</td>\n",
       "      <td>0.004587</td>\n",
       "      <td>0.004415</td>\n",
       "      <td>0.0</td>\n",
       "      <td>1.0</td>\n",
       "      <td>1.0</td>\n",
       "      <td>0.000458</td>\n",
       "      <td>0.333333</td>\n",
       "    </tr>\n",
       "    <tr>\n",
       "      <th>2</th>\n",
       "      <td>0.003661</td>\n",
       "      <td>0.0</td>\n",
       "      <td>5.416666e-07</td>\n",
       "      <td>0.0</td>\n",
       "      <td>0.0</td>\n",
       "      <td>0.009615</td>\n",
       "      <td>0.004415</td>\n",
       "      <td>0.0</td>\n",
       "      <td>1.0</td>\n",
       "      <td>1.0</td>\n",
       "      <td>0.000458</td>\n",
       "      <td>0.333333</td>\n",
       "    </tr>\n",
       "    <tr>\n",
       "      <th>3</th>\n",
       "      <td>0.003661</td>\n",
       "      <td>0.0</td>\n",
       "      <td>3.916666e-07</td>\n",
       "      <td>0.0</td>\n",
       "      <td>0.0</td>\n",
       "      <td>0.014706</td>\n",
       "      <td>0.004415</td>\n",
       "      <td>0.0</td>\n",
       "      <td>1.0</td>\n",
       "      <td>1.0</td>\n",
       "      <td>0.000488</td>\n",
       "      <td>0.333333</td>\n",
       "    </tr>\n",
       "    <tr>\n",
       "      <th>4</th>\n",
       "      <td>0.000000</td>\n",
       "      <td>0.0</td>\n",
       "      <td>1.333333e-07</td>\n",
       "      <td>0.0</td>\n",
       "      <td>0.0</td>\n",
       "      <td>0.000000</td>\n",
       "      <td>0.004415</td>\n",
       "      <td>0.0</td>\n",
       "      <td>1.0</td>\n",
       "      <td>0.0</td>\n",
       "      <td>0.000504</td>\n",
       "      <td>0.333333</td>\n",
       "    </tr>\n",
       "  </tbody>\n",
       "</table>\n",
       "</div>"
      ],
      "text/plain": [
       "   bwd_packet_length_min  bwd_packet_length_std  flow_iat_max  fwd_iat_std  \\\n",
       "0               0.000000                    0.0  1.333333e-07          0.0   \n",
       "1               0.003661                    0.0  1.016667e-06          0.0   \n",
       "2               0.003661                    0.0  5.416666e-07          0.0   \n",
       "3               0.003661                    0.0  3.916666e-07          0.0   \n",
       "4               0.000000                    0.0  1.333333e-07          0.0   \n",
       "\n",
       "   bwd_iat_total  bwd_packets/s  min_packet_length  psh_flag_count  \\\n",
       "0            0.0       0.000000           0.004415             0.0   \n",
       "1            0.0       0.004587           0.004415             0.0   \n",
       "2            0.0       0.009615           0.004415             0.0   \n",
       "3            0.0       0.014706           0.004415             0.0   \n",
       "4            0.0       0.000000           0.004415             0.0   \n",
       "\n",
       "   ack_flag_count  urg_flag_count  init_win_bytes_forward  \\\n",
       "0             1.0             0.0                0.000519   \n",
       "1             1.0             1.0                0.000458   \n",
       "2             1.0             1.0                0.000458   \n",
       "3             1.0             1.0                0.000488   \n",
       "4             1.0             0.0                0.000504   \n",
       "\n",
       "   min_seg_size_forward  \n",
       "0              0.333333  \n",
       "1              0.333333  \n",
       "2              0.333333  \n",
       "3              0.333333  \n",
       "4              0.333333  "
      ]
     },
     "execution_count": 25,
     "metadata": {},
     "output_type": "execute_result"
    }
   ],
   "source": [
    "df_scaled.head()"
   ]
  },
  {
   "cell_type": "code",
   "execution_count": 27,
   "metadata": {},
   "outputs": [
    {
     "data": {
      "text/plain": [
       "9"
      ]
     },
     "execution_count": 27,
     "metadata": {},
     "output_type": "execute_result"
    }
   ],
   "source": [
    "n_pcs= pca.components_.shape[0]\n",
    "n_pcs"
   ]
  },
  {
   "cell_type": "code",
   "execution_count": 28,
   "metadata": {},
   "outputs": [],
   "source": [
    "\n",
    "most_important = [np.abs(pca.components_[i]).argmax() for i in range(n_pcs)]\n",
    "\n",
    "initial_feature_names = df_no_labels.columns\n",
    "\n",
    "\n",
    "most_important_names = [initial_feature_names[most_important[i]] for i in range(n_pcs)]\n",
    "\n",
    "dic = {'PC{}'.format(i+1): most_important_names[i] for i in range(n_pcs)}\n",
    "\n",
    "\n",
    "df = pd.DataFrame(sorted(dic.items()))"
   ]
  },
  {
   "cell_type": "code",
   "execution_count": 29,
   "metadata": {},
   "outputs": [
    {
     "data": {
      "text/html": [
       "<div>\n",
       "<style scoped>\n",
       "    .dataframe tbody tr th:only-of-type {\n",
       "        vertical-align: middle;\n",
       "    }\n",
       "\n",
       "    .dataframe tbody tr th {\n",
       "        vertical-align: top;\n",
       "    }\n",
       "\n",
       "    .dataframe thead th {\n",
       "        text-align: right;\n",
       "    }\n",
       "</style>\n",
       "<table border=\"1\" class=\"dataframe\">\n",
       "  <thead>\n",
       "    <tr style=\"text-align: right;\">\n",
       "      <th></th>\n",
       "      <th>0</th>\n",
       "      <th>1</th>\n",
       "    </tr>\n",
       "  </thead>\n",
       "  <tbody>\n",
       "    <tr>\n",
       "      <th>0</th>\n",
       "      <td>PC1</td>\n",
       "      <td>bwd_iat_total</td>\n",
       "    </tr>\n",
       "    <tr>\n",
       "      <th>1</th>\n",
       "      <td>PC2</td>\n",
       "      <td>flow_iat_max</td>\n",
       "    </tr>\n",
       "    <tr>\n",
       "      <th>2</th>\n",
       "      <td>PC3</td>\n",
       "      <td>fwd_iat_std</td>\n",
       "    </tr>\n",
       "    <tr>\n",
       "      <th>3</th>\n",
       "      <td>PC4</td>\n",
       "      <td>bwd_packets/s</td>\n",
       "    </tr>\n",
       "    <tr>\n",
       "      <th>4</th>\n",
       "      <td>PC5</td>\n",
       "      <td>init_win_bytes_forward</td>\n",
       "    </tr>\n",
       "    <tr>\n",
       "      <th>5</th>\n",
       "      <td>PC6</td>\n",
       "      <td>bwd_packet_length_std</td>\n",
       "    </tr>\n",
       "    <tr>\n",
       "      <th>6</th>\n",
       "      <td>PC7</td>\n",
       "      <td>bwd_packet_length_min</td>\n",
       "    </tr>\n",
       "    <tr>\n",
       "      <th>7</th>\n",
       "      <td>PC8</td>\n",
       "      <td>min_packet_length</td>\n",
       "    </tr>\n",
       "    <tr>\n",
       "      <th>8</th>\n",
       "      <td>PC9</td>\n",
       "      <td>min_seg_size_forward</td>\n",
       "    </tr>\n",
       "  </tbody>\n",
       "</table>\n",
       "</div>"
      ],
      "text/plain": [
       "     0                       1\n",
       "0  PC1           bwd_iat_total\n",
       "1  PC2            flow_iat_max\n",
       "2  PC3             fwd_iat_std\n",
       "3  PC4           bwd_packets/s\n",
       "4  PC5  init_win_bytes_forward\n",
       "5  PC6   bwd_packet_length_std\n",
       "6  PC7   bwd_packet_length_min\n",
       "7  PC8       min_packet_length\n",
       "8  PC9    min_seg_size_forward"
      ]
     },
     "execution_count": 29,
     "metadata": {},
     "output_type": "execute_result"
    }
   ],
   "source": [
    "\n",
    "df.head(9)"
   ]
  },
  {
   "cell_type": "code",
   "execution_count": 30,
   "metadata": {},
   "outputs": [
    {
     "data": {
      "text/html": [
       "<div>\n",
       "<style scoped>\n",
       "    .dataframe tbody tr th:only-of-type {\n",
       "        vertical-align: middle;\n",
       "    }\n",
       "\n",
       "    .dataframe tbody tr th {\n",
       "        vertical-align: top;\n",
       "    }\n",
       "\n",
       "    .dataframe thead th {\n",
       "        text-align: right;\n",
       "    }\n",
       "</style>\n",
       "<table border=\"1\" class=\"dataframe\">\n",
       "  <thead>\n",
       "    <tr style=\"text-align: right;\">\n",
       "      <th></th>\n",
       "      <th>bwd_packet_length_min</th>\n",
       "      <th>bwd_packet_length_std</th>\n",
       "      <th>flow_iat_max</th>\n",
       "      <th>fwd_iat_std</th>\n",
       "      <th>bwd_iat_total</th>\n",
       "      <th>bwd_packets/s</th>\n",
       "      <th>min_packet_length</th>\n",
       "      <th>psh_flag_count</th>\n",
       "      <th>ack_flag_count</th>\n",
       "      <th>urg_flag_count</th>\n",
       "      <th>init_win_bytes_forward</th>\n",
       "      <th>min_seg_size_forward</th>\n",
       "    </tr>\n",
       "  </thead>\n",
       "  <tbody>\n",
       "    <tr>\n",
       "      <th>0</th>\n",
       "      <td>0.000000</td>\n",
       "      <td>0.0</td>\n",
       "      <td>1.333333e-07</td>\n",
       "      <td>0.0</td>\n",
       "      <td>0.0</td>\n",
       "      <td>0.000000</td>\n",
       "      <td>0.004415</td>\n",
       "      <td>0.0</td>\n",
       "      <td>1.0</td>\n",
       "      <td>0.0</td>\n",
       "      <td>0.000519</td>\n",
       "      <td>0.333333</td>\n",
       "    </tr>\n",
       "    <tr>\n",
       "      <th>1</th>\n",
       "      <td>0.003661</td>\n",
       "      <td>0.0</td>\n",
       "      <td>1.016667e-06</td>\n",
       "      <td>0.0</td>\n",
       "      <td>0.0</td>\n",
       "      <td>0.004587</td>\n",
       "      <td>0.004415</td>\n",
       "      <td>0.0</td>\n",
       "      <td>1.0</td>\n",
       "      <td>1.0</td>\n",
       "      <td>0.000458</td>\n",
       "      <td>0.333333</td>\n",
       "    </tr>\n",
       "    <tr>\n",
       "      <th>2</th>\n",
       "      <td>0.003661</td>\n",
       "      <td>0.0</td>\n",
       "      <td>5.416666e-07</td>\n",
       "      <td>0.0</td>\n",
       "      <td>0.0</td>\n",
       "      <td>0.009615</td>\n",
       "      <td>0.004415</td>\n",
       "      <td>0.0</td>\n",
       "      <td>1.0</td>\n",
       "      <td>1.0</td>\n",
       "      <td>0.000458</td>\n",
       "      <td>0.333333</td>\n",
       "    </tr>\n",
       "    <tr>\n",
       "      <th>3</th>\n",
       "      <td>0.003661</td>\n",
       "      <td>0.0</td>\n",
       "      <td>3.916666e-07</td>\n",
       "      <td>0.0</td>\n",
       "      <td>0.0</td>\n",
       "      <td>0.014706</td>\n",
       "      <td>0.004415</td>\n",
       "      <td>0.0</td>\n",
       "      <td>1.0</td>\n",
       "      <td>1.0</td>\n",
       "      <td>0.000488</td>\n",
       "      <td>0.333333</td>\n",
       "    </tr>\n",
       "    <tr>\n",
       "      <th>4</th>\n",
       "      <td>0.000000</td>\n",
       "      <td>0.0</td>\n",
       "      <td>1.333333e-07</td>\n",
       "      <td>0.0</td>\n",
       "      <td>0.0</td>\n",
       "      <td>0.000000</td>\n",
       "      <td>0.004415</td>\n",
       "      <td>0.0</td>\n",
       "      <td>1.0</td>\n",
       "      <td>0.0</td>\n",
       "      <td>0.000504</td>\n",
       "      <td>0.333333</td>\n",
       "    </tr>\n",
       "  </tbody>\n",
       "</table>\n",
       "</div>"
      ],
      "text/plain": [
       "   bwd_packet_length_min  bwd_packet_length_std  flow_iat_max  fwd_iat_std  \\\n",
       "0               0.000000                    0.0  1.333333e-07          0.0   \n",
       "1               0.003661                    0.0  1.016667e-06          0.0   \n",
       "2               0.003661                    0.0  5.416666e-07          0.0   \n",
       "3               0.003661                    0.0  3.916666e-07          0.0   \n",
       "4               0.000000                    0.0  1.333333e-07          0.0   \n",
       "\n",
       "   bwd_iat_total  bwd_packets/s  min_packet_length  psh_flag_count  \\\n",
       "0            0.0       0.000000           0.004415             0.0   \n",
       "1            0.0       0.004587           0.004415             0.0   \n",
       "2            0.0       0.009615           0.004415             0.0   \n",
       "3            0.0       0.014706           0.004415             0.0   \n",
       "4            0.0       0.000000           0.004415             0.0   \n",
       "\n",
       "   ack_flag_count  urg_flag_count  init_win_bytes_forward  \\\n",
       "0             1.0             0.0                0.000519   \n",
       "1             1.0             1.0                0.000458   \n",
       "2             1.0             1.0                0.000458   \n",
       "3             1.0             1.0                0.000488   \n",
       "4             1.0             0.0                0.000504   \n",
       "\n",
       "   min_seg_size_forward  \n",
       "0              0.333333  \n",
       "1              0.333333  \n",
       "2              0.333333  \n",
       "3              0.333333  \n",
       "4              0.333333  "
      ]
     },
     "execution_count": 30,
     "metadata": {},
     "output_type": "execute_result"
    }
   ],
   "source": [
    "\n",
    "df_scaled.head()"
   ]
  },
  {
   "cell_type": "code",
   "execution_count": 17,
   "metadata": {},
   "outputs": [],
   "source": [
    "df_final=df_scaled[[\"bwd_iat_total\",\"flow_iat_max\",\"fwd_iat_std\",\"bwd_packets/s\",\"init_win_bytes_forward\",\"bwd_packet_length_std\",\"bwd_packet_length_min\",\"min_packet_length\",\"min_seg_size_forward\"]]"
   ]
  },
  {
   "cell_type": "code",
   "execution_count": 18,
   "metadata": {},
   "outputs": [
    {
     "data": {
      "text/plain": [
       "array(['BENIGN', 'DDoS', 'PortScan', 'Bot', 'Infiltration',\n",
       "       'Web Attack � Brute Force', 'Web Attack � XSS',\n",
       "       'Web Attack � Sql Injection'], dtype=object)"
      ]
     },
     "execution_count": 18,
     "metadata": {},
     "output_type": "execute_result"
    }
   ],
   "source": [
    "df_labels.unique()"
   ]
  },
  {
   "cell_type": "code",
   "execution_count": 19,
   "metadata": {},
   "outputs": [
    {
     "data": {
      "text/html": [
       "<div>\n",
       "<style scoped>\n",
       "    .dataframe tbody tr th:only-of-type {\n",
       "        vertical-align: middle;\n",
       "    }\n",
       "\n",
       "    .dataframe tbody tr th {\n",
       "        vertical-align: top;\n",
       "    }\n",
       "\n",
       "    .dataframe thead th {\n",
       "        text-align: right;\n",
       "    }\n",
       "</style>\n",
       "<table border=\"1\" class=\"dataframe\">\n",
       "  <thead>\n",
       "    <tr style=\"text-align: right;\">\n",
       "      <th></th>\n",
       "      <th>0</th>\n",
       "      <th>1</th>\n",
       "      <th>2</th>\n",
       "      <th>3</th>\n",
       "      <th>4</th>\n",
       "    </tr>\n",
       "  </thead>\n",
       "  <tbody>\n",
       "    <tr>\n",
       "      <th>bwd_iat_total</th>\n",
       "      <td>0.000000e+00</td>\n",
       "      <td>0.000000</td>\n",
       "      <td>0.000000e+00</td>\n",
       "      <td>0.000000e+00</td>\n",
       "      <td>0.000000e+00</td>\n",
       "    </tr>\n",
       "    <tr>\n",
       "      <th>flow_iat_max</th>\n",
       "      <td>1.333333e-07</td>\n",
       "      <td>0.000001</td>\n",
       "      <td>5.416666e-07</td>\n",
       "      <td>3.916666e-07</td>\n",
       "      <td>1.333333e-07</td>\n",
       "    </tr>\n",
       "    <tr>\n",
       "      <th>fwd_iat_std</th>\n",
       "      <td>0.000000e+00</td>\n",
       "      <td>0.000000</td>\n",
       "      <td>0.000000e+00</td>\n",
       "      <td>0.000000e+00</td>\n",
       "      <td>0.000000e+00</td>\n",
       "    </tr>\n",
       "    <tr>\n",
       "      <th>bwd_packets/s</th>\n",
       "      <td>0.000000e+00</td>\n",
       "      <td>0.004587</td>\n",
       "      <td>9.615385e-03</td>\n",
       "      <td>1.470588e-02</td>\n",
       "      <td>0.000000e+00</td>\n",
       "    </tr>\n",
       "    <tr>\n",
       "      <th>init_win_bytes_forward</th>\n",
       "      <td>5.187988e-04</td>\n",
       "      <td>0.000458</td>\n",
       "      <td>4.577637e-04</td>\n",
       "      <td>4.882812e-04</td>\n",
       "      <td>5.035400e-04</td>\n",
       "    </tr>\n",
       "    <tr>\n",
       "      <th>bwd_packet_length_std</th>\n",
       "      <td>0.000000e+00</td>\n",
       "      <td>0.000000</td>\n",
       "      <td>0.000000e+00</td>\n",
       "      <td>0.000000e+00</td>\n",
       "      <td>0.000000e+00</td>\n",
       "    </tr>\n",
       "    <tr>\n",
       "      <th>bwd_packet_length_min</th>\n",
       "      <td>0.000000e+00</td>\n",
       "      <td>0.003661</td>\n",
       "      <td>3.660769e-03</td>\n",
       "      <td>3.660769e-03</td>\n",
       "      <td>0.000000e+00</td>\n",
       "    </tr>\n",
       "    <tr>\n",
       "      <th>min_packet_length</th>\n",
       "      <td>4.415011e-03</td>\n",
       "      <td>0.004415</td>\n",
       "      <td>4.415011e-03</td>\n",
       "      <td>4.415011e-03</td>\n",
       "      <td>4.415011e-03</td>\n",
       "    </tr>\n",
       "    <tr>\n",
       "      <th>min_seg_size_forward</th>\n",
       "      <td>3.333333e-01</td>\n",
       "      <td>0.333333</td>\n",
       "      <td>3.333333e-01</td>\n",
       "      <td>3.333333e-01</td>\n",
       "      <td>3.333333e-01</td>\n",
       "    </tr>\n",
       "  </tbody>\n",
       "</table>\n",
       "</div>"
      ],
      "text/plain": [
       "                                   0         1             2             3  \\\n",
       "bwd_iat_total           0.000000e+00  0.000000  0.000000e+00  0.000000e+00   \n",
       "flow_iat_max            1.333333e-07  0.000001  5.416666e-07  3.916666e-07   \n",
       "fwd_iat_std             0.000000e+00  0.000000  0.000000e+00  0.000000e+00   \n",
       "bwd_packets/s           0.000000e+00  0.004587  9.615385e-03  1.470588e-02   \n",
       "init_win_bytes_forward  5.187988e-04  0.000458  4.577637e-04  4.882812e-04   \n",
       "bwd_packet_length_std   0.000000e+00  0.000000  0.000000e+00  0.000000e+00   \n",
       "bwd_packet_length_min   0.000000e+00  0.003661  3.660769e-03  3.660769e-03   \n",
       "min_packet_length       4.415011e-03  0.004415  4.415011e-03  4.415011e-03   \n",
       "min_seg_size_forward    3.333333e-01  0.333333  3.333333e-01  3.333333e-01   \n",
       "\n",
       "                                   4  \n",
       "bwd_iat_total           0.000000e+00  \n",
       "flow_iat_max            1.333333e-07  \n",
       "fwd_iat_std             0.000000e+00  \n",
       "bwd_packets/s           0.000000e+00  \n",
       "init_win_bytes_forward  5.035400e-04  \n",
       "bwd_packet_length_std   0.000000e+00  \n",
       "bwd_packet_length_min   0.000000e+00  \n",
       "min_packet_length       4.415011e-03  \n",
       "min_seg_size_forward    3.333333e-01  "
      ]
     },
     "execution_count": 19,
     "metadata": {},
     "output_type": "execute_result"
    }
   ],
   "source": [
    "df_final.head().transpose()"
   ]
  },
  {
   "cell_type": "code",
   "execution_count": 26,
   "metadata": {},
   "outputs": [
    {
     "data": {
      "text/plain": [
       "{'BENIGN': 0,\n",
       " 'DDoS': 1,\n",
       " 'PortScan': 2,\n",
       " 'Bot': 3,\n",
       " 'Infiltration': 4,\n",
       " 'Web Attack � Brute Force': 5,\n",
       " 'Web Attack � XSS': 6,\n",
       " 'Web Attack � Sql Injection': 7}"
      ]
     },
     "execution_count": 26,
     "metadata": {},
     "output_type": "execute_result"
    }
   ],
   "source": [
    "mapping = {}\n",
    "j = 0\n",
    "for x in df_labels.unique():\n",
    "    mapping[x]=j\n",
    "    j=j+1\n",
    "\n",
    "mapping"
   ]
  },
  {
   "cell_type": "code",
   "execution_count": 28,
   "metadata": {},
   "outputs": [],
   "source": [
    "r_mapping = {v:k for k,v in mapping.items()}"
   ]
  },
  {
   "cell_type": "code",
   "execution_count": 29,
   "metadata": {},
   "outputs": [],
   "source": [
    "labels=[]\n",
    "for x in df_labels:\n",
    "    labels.append(mapping[x])"
   ]
  },
  {
   "cell_type": "code",
   "execution_count": 30,
   "metadata": {},
   "outputs": [],
   "source": [
    "y = to_categorical(labels)"
   ]
  },
  {
   "cell_type": "code",
   "execution_count": 31,
   "metadata": {},
   "outputs": [
    {
     "data": {
      "text/plain": [
       "(1162213, 8)"
      ]
     },
     "execution_count": 31,
     "metadata": {},
     "output_type": "execute_result"
    }
   ],
   "source": [
    "y.shape"
   ]
  },
  {
   "cell_type": "code",
   "execution_count": 284,
   "metadata": {},
   "outputs": [
    {
     "data": {
      "text/plain": [
       "(1162213, 9)"
      ]
     },
     "execution_count": 284,
     "metadata": {},
     "output_type": "execute_result"
    }
   ],
   "source": [
    "df_final.shape"
   ]
  },
  {
   "cell_type": "code",
   "execution_count": 78,
   "metadata": {},
   "outputs": [],
   "source": [
    "X = np.array(df_final)\n",
    "X_train, X_test, y_train, y_test, labels_train, labels_test = train_test_split(X, y, labels, test_size=0.01)"
   ]
  },
  {
   "cell_type": "code",
   "execution_count": 125,
   "metadata": {},
   "outputs": [],
   "source": [
    "input_layer = Input(shape=(9,))\n",
    "fuzzy_layer = FuzzyLayer(64)(input_layer)\n",
    "hidden_layer_1 = Dense(32, activation='tanh')(fuzzy_layer)\n",
    "hidden_layer_2 = Dense(16, activation='tanh')(hidden_layer_1)\n",
    "hidden_layer_3 = Dense(8, activation='tanh')(hidden_layer_2)\n",
    "output_layer = Dense(8)(hidden_layer_3)\n",
    "\n",
    "model = Model(inputs=input_layer, outputs=output_layer)\n",
    "model.compile(optimizer='adam', loss='mean_squared_error', metrics=['mae', 'accuracy'])"
   ]
  },
  {
   "cell_type": "code",
   "execution_count": 130,
   "metadata": {},
   "outputs": [
    {
     "name": "stdout",
     "output_type": "stream",
     "text": [
      "Model: \"model_12\"\n",
      "_________________________________________________________________\n",
      " Layer (type)                Output Shape              Param #   \n",
      "=================================================================\n",
      " input_14 (InputLayer)       [(None, 9)]               0         \n",
      "                                                                 \n",
      " fuzzy_layer_18 (FuzzyLayer)  (None, 64)               576       \n",
      "                                                                 \n",
      " dense_78 (Dense)            (None, 32)                2080      \n",
      "                                                                 \n",
      " dense_79 (Dense)            (None, 16)                528       \n",
      "                                                                 \n",
      " dense_80 (Dense)            (None, 8)                 136       \n",
      "                                                                 \n",
      " dense_81 (Dense)            (None, 8)                 72        \n",
      "                                                                 \n",
      "=================================================================\n",
      "Total params: 3,392\n",
      "Trainable params: 3,392\n",
      "Non-trainable params: 0\n",
      "_________________________________________________________________\n"
     ]
    }
   ],
   "source": [
    "model.summary()"
   ]
  },
  {
   "cell_type": "code",
   "execution_count": 127,
   "metadata": {},
   "outputs": [],
   "source": [
    "checkpoint_filepath = '/Users/ege/Projects/IDS/checkpoint'\n",
    "model_checkpoint_callback = tf.keras.callbacks.ModelCheckpoint(\n",
    "    filepath=checkpoint_filepath,\n",
    "    save_weights_only=True,\n",
    "    monitor='val_accuracy',\n",
    "    mode='max',\n",
    "    save_best_only=True)"
   ]
  },
  {
   "cell_type": "code",
   "execution_count": 128,
   "metadata": {},
   "outputs": [
    {
     "name": "stdout",
     "output_type": "stream",
     "text": [
      "Epoch 1/20\n",
      "14383/14383 [==============================] - 12s 783us/step - loss: 0.0195 - mae: 0.0492 - accuracy: 0.8964 - val_loss: 0.0106 - val_mae: 0.0247 - val_accuracy: 0.9525\n",
      "Epoch 2/20\n",
      "14383/14383 [==============================] - 12s 839us/step - loss: 0.0086 - mae: 0.0210 - accuracy: 0.9538 - val_loss: 0.0072 - val_mae: 0.0185 - val_accuracy: 0.9620\n",
      "Epoch 3/20\n",
      "14383/14383 [==============================] - 12s 804us/step - loss: 0.0070 - mae: 0.0172 - accuracy: 0.9622 - val_loss: 0.0064 - val_mae: 0.0159 - val_accuracy: 0.9670\n",
      "Epoch 4/20\n",
      "14383/14383 [==============================] - 11s 794us/step - loss: 0.0066 - mae: 0.0164 - accuracy: 0.9655 - val_loss: 0.0063 - val_mae: 0.0152 - val_accuracy: 0.9672\n",
      "Epoch 5/20\n",
      "14383/14383 [==============================] - 11s 773us/step - loss: 0.0064 - mae: 0.0159 - accuracy: 0.9667 - val_loss: 0.0071 - val_mae: 0.0164 - val_accuracy: 0.9627\n",
      "Epoch 6/20\n",
      "14383/14383 [==============================] - 11s 779us/step - loss: 0.0063 - mae: 0.0154 - accuracy: 0.9677 - val_loss: 0.0060 - val_mae: 0.0171 - val_accuracy: 0.9697\n",
      "Epoch 7/20\n",
      "14383/14383 [==============================] - 12s 802us/step - loss: 0.0062 - mae: 0.0151 - accuracy: 0.9681 - val_loss: 0.0058 - val_mae: 0.0137 - val_accuracy: 0.9701\n",
      "Epoch 8/20\n",
      "14383/14383 [==============================] - 13s 871us/step - loss: 0.0061 - mae: 0.0148 - accuracy: 0.9687 - val_loss: 0.0058 - val_mae: 0.0138 - val_accuracy: 0.9700\n",
      "Epoch 9/20\n",
      "14383/14383 [==============================] - 12s 852us/step - loss: 0.0060 - mae: 0.0147 - accuracy: 0.9688 - val_loss: 0.0058 - val_mae: 0.0126 - val_accuracy: 0.9705\n",
      "Epoch 10/20\n",
      "14383/14383 [==============================] - 12s 837us/step - loss: 0.0060 - mae: 0.0147 - accuracy: 0.9691 - val_loss: 0.0061 - val_mae: 0.0165 - val_accuracy: 0.9695\n",
      "Epoch 11/20\n",
      "14383/14383 [==============================] - 11s 770us/step - loss: 0.0059 - mae: 0.0145 - accuracy: 0.9693 - val_loss: 0.0058 - val_mae: 0.0158 - val_accuracy: 0.9711\n",
      "Epoch 12/20\n",
      "14383/14383 [==============================] - 11s 774us/step - loss: 0.0059 - mae: 0.0144 - accuracy: 0.9698 - val_loss: 0.0060 - val_mae: 0.0126 - val_accuracy: 0.9688\n",
      "Epoch 13/20\n",
      "14383/14383 [==============================] - 11s 767us/step - loss: 0.0058 - mae: 0.0144 - accuracy: 0.9698 - val_loss: 0.0066 - val_mae: 0.0164 - val_accuracy: 0.9619\n",
      "Epoch 14/20\n",
      "14383/14383 [==============================] - 11s 761us/step - loss: 0.0059 - mae: 0.0145 - accuracy: 0.9698 - val_loss: 0.0059 - val_mae: 0.0139 - val_accuracy: 0.9694\n",
      "Epoch 15/20\n",
      "14383/14383 [==============================] - 11s 764us/step - loss: 0.0058 - mae: 0.0145 - accuracy: 0.9702 - val_loss: 0.0056 - val_mae: 0.0134 - val_accuracy: 0.9707\n",
      "Epoch 16/20\n",
      "14383/14383 [==============================] - 11s 772us/step - loss: 0.0058 - mae: 0.0144 - accuracy: 0.9702 - val_loss: 0.0057 - val_mae: 0.0146 - val_accuracy: 0.9709\n",
      "Epoch 17/20\n",
      "14383/14383 [==============================] - 11s 762us/step - loss: 0.0057 - mae: 0.0142 - accuracy: 0.9704 - val_loss: 0.0059 - val_mae: 0.0132 - val_accuracy: 0.9706\n",
      "Epoch 18/20\n",
      "14383/14383 [==============================] - 11s 768us/step - loss: 0.0057 - mae: 0.0142 - accuracy: 0.9705 - val_loss: 0.0066 - val_mae: 0.0128 - val_accuracy: 0.9662\n",
      "Epoch 19/20\n",
      "14383/14383 [==============================] - 11s 772us/step - loss: 0.0057 - mae: 0.0140 - accuracy: 0.9705 - val_loss: 0.0055 - val_mae: 0.0137 - val_accuracy: 0.9717\n",
      "Epoch 20/20\n",
      "14383/14383 [==============================] - 11s 768us/step - loss: 0.0056 - mae: 0.0140 - accuracy: 0.9706 - val_loss: 0.0055 - val_mae: 0.0142 - val_accuracy: 0.9711\n"
     ]
    }
   ],
   "source": [
    "history = model.fit(X_train, y_train,\n",
    "        epochs=20,\n",
    "        verbose=1,\n",
    "        batch_size=64, callbacks=[model_checkpoint_callback] , validation_split=0.2)"
   ]
  },
  {
   "cell_type": "code",
   "execution_count": 131,
   "metadata": {},
   "outputs": [
    {
     "data": {
      "text/plain": [
       "<tensorflow.python.checkpoint.checkpoint.CheckpointLoadStatus at 0x280b8e700>"
      ]
     },
     "execution_count": 131,
     "metadata": {},
     "output_type": "execute_result"
    }
   ],
   "source": [
    "model.load_weights(checkpoint_filepath)"
   ]
  },
  {
   "cell_type": "code",
   "execution_count": 129,
   "metadata": {},
   "outputs": [
    {
     "data": {
      "image/png": "[encoded data removed]",
      "text/plain": [
       "<Figure size 640x480 with 1 Axes>"
      ]
     },
     "metadata": {},
     "output_type": "display_data"
    }
   ],
   "source": [
    "plt.plot(history.history['accuracy'][:])\n",
    "plt.grid()"
   ]
  },
  {
   "cell_type": "code",
   "execution_count": 137,
   "metadata": {},
   "outputs": [],
   "source": [
    "model.save('Detection_model.keras')\n",
    "model.save('IDS_model.h5',save_format='h5')"
   ]
  },
  {
   "cell_type": "code",
   "execution_count": null,
   "metadata": {},
   "outputs": [],
   "source": []
  }
 ],
 "metadata": {
  "kernelspec": {
   "display_name": "Python 3",
   "language": "python",
   "name": "python3"
  },
  "language_info": {
   "codemirror_mode": {
    "name": "ipython",
    "version": 3
   },
   "file_extension": ".py",
   "mimetype": "text/x-python",
   "name": "python",
   "nbconvert_exporter": "python",
   "pygments_lexer": "ipython3",
   "version": "3.9.17"
  },
  "orig_nbformat": 4
 },
 "nbformat": 4,
 "nbformat_minor": 2
}
